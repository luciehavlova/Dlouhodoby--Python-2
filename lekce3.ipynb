{
 "cells": [
  {
   "attachments": {},
   "cell_type": "markdown",
   "metadata": {},
   "source": [
    "# Lekce 3\n",
    "\n",
    "## Práce s datem a časem\n",
    "\n",
    "Zkusme si načíst následující tabulku."
   ]
  },
  {
   "cell_type": "code",
   "execution_count": 4,
   "metadata": {},
   "outputs": [
    {
     "data": {
      "text/html": [
       "<div>\n",
       "<style scoped>\n",
       "    .dataframe tbody tr th:only-of-type {\n",
       "        vertical-align: middle;\n",
       "    }\n",
       "\n",
       "    .dataframe tbody tr th {\n",
       "        vertical-align: top;\n",
       "    }\n",
       "\n",
       "    .dataframe thead th {\n",
       "        text-align: right;\n",
       "    }\n",
       "</style>\n",
       "<table border=\"1\" class=\"dataframe\">\n",
       "  <thead>\n",
       "    <tr style=\"text-align: right;\">\n",
       "      <th></th>\n",
       "      <th>invoice_date</th>\n",
       "      <th>customer</th>\n",
       "      <th>amount</th>\n",
       "    </tr>\n",
       "  </thead>\n",
       "  <tbody>\n",
       "    <tr>\n",
       "      <th>0</th>\n",
       "      <td>24. 07. 2021</td>\n",
       "      <td>Robbins-Bryant</td>\n",
       "      <td>42424.49</td>\n",
       "    </tr>\n",
       "    <tr>\n",
       "      <th>1</th>\n",
       "      <td>03. 06. 2021</td>\n",
       "      <td>Little, Espinoza and Manning</td>\n",
       "      <td>6269.53</td>\n",
       "    </tr>\n",
       "    <tr>\n",
       "      <th>2</th>\n",
       "      <td>24. 06. 2021</td>\n",
       "      <td>Hartman-Garcia</td>\n",
       "      <td>19182.55</td>\n",
       "    </tr>\n",
       "    <tr>\n",
       "      <th>3</th>\n",
       "      <td>09. 08. 2021</td>\n",
       "      <td>Mason, Armstrong and Whitaker</td>\n",
       "      <td>66295.23</td>\n",
       "    </tr>\n",
       "    <tr>\n",
       "      <th>4</th>\n",
       "      <td>29. 06. 2021</td>\n",
       "      <td>Dickerson-Blankenship</td>\n",
       "      <td>88592.58</td>\n",
       "    </tr>\n",
       "  </tbody>\n",
       "</table>\n",
       "</div>"
      ],
      "text/plain": [
       "   invoice_date                       customer    amount\n",
       "0  24. 07. 2021                 Robbins-Bryant  42424.49\n",
       "1  03. 06. 2021   Little, Espinoza and Manning   6269.53\n",
       "2  24. 06. 2021                 Hartman-Garcia  19182.55\n",
       "3  09. 08. 2021  Mason, Armstrong and Whitaker  66295.23\n",
       "4  29. 06. 2021          Dickerson-Blankenship  88592.58"
      ]
     },
     "execution_count": 4,
     "metadata": {},
     "output_type": "execute_result"
    }
   ],
   "source": [
    "import pandas\n",
    "\n",
    "invoices = pandas.read_csv(\"invoices.csv\")\n",
    "invoices.head()"
   ]
  },
  {
   "attachments": {},
   "cell_type": "markdown",
   "metadata": {},
   "source": [
    "Podívejme se nyní na to, jaké datové typy mají jednotlivé sloupce."
   ]
  },
  {
   "cell_type": "code",
   "execution_count": 5,
   "metadata": {},
   "outputs": [
    {
     "data": {
      "text/plain": [
       "invoice_date     object\n",
       "customer         object\n",
       "amount          float64\n",
       "dtype: object"
      ]
     },
     "execution_count": 5,
     "metadata": {},
     "output_type": "execute_result"
    }
   ],
   "source": [
    "invoices.dtypes"
   ]
  },
  {
   "attachments": {},
   "cell_type": "markdown",
   "metadata": {},
   "source": [
    "Float64 = rozpoznal že se jedná o desetinné číslo"
   ]
  },
  {
   "attachments": {},
   "cell_type": "markdown",
   "metadata": {},
   "source": [
    "První dva sloupce mají obecný typ `object`, `pandas` tedy nerozpoznal, že v prvním sloupci je datum. To je škoda, protože nám to neumožní s datem pracovat. Můžeme ale hodnotu na typ `datetime` převést. K převodu použijeme funkci `to_datetime`, které předáme sloupec `invoice_date` a výstup uložíme do sloupce `invoice_date_converted`."
   ]
  },
  {
   "cell_type": "code",
   "execution_count": 6,
   "metadata": {},
   "outputs": [
    {
     "data": {
      "text/html": [
       "<div>\n",
       "<style scoped>\n",
       "    .dataframe tbody tr th:only-of-type {\n",
       "        vertical-align: middle;\n",
       "    }\n",
       "\n",
       "    .dataframe tbody tr th {\n",
       "        vertical-align: top;\n",
       "    }\n",
       "\n",
       "    .dataframe thead th {\n",
       "        text-align: right;\n",
       "    }\n",
       "</style>\n",
       "<table border=\"1\" class=\"dataframe\">\n",
       "  <thead>\n",
       "    <tr style=\"text-align: right;\">\n",
       "      <th></th>\n",
       "      <th>invoice_date</th>\n",
       "      <th>customer</th>\n",
       "      <th>amount</th>\n",
       "      <th>invoice_date_converted</th>\n",
       "    </tr>\n",
       "  </thead>\n",
       "  <tbody>\n",
       "    <tr>\n",
       "      <th>0</th>\n",
       "      <td>24. 07. 2021</td>\n",
       "      <td>Robbins-Bryant</td>\n",
       "      <td>42424.49</td>\n",
       "      <td>2021-07-24</td>\n",
       "    </tr>\n",
       "    <tr>\n",
       "      <th>1</th>\n",
       "      <td>03. 06. 2021</td>\n",
       "      <td>Little, Espinoza and Manning</td>\n",
       "      <td>6269.53</td>\n",
       "      <td>2021-03-06</td>\n",
       "    </tr>\n",
       "    <tr>\n",
       "      <th>2</th>\n",
       "      <td>24. 06. 2021</td>\n",
       "      <td>Hartman-Garcia</td>\n",
       "      <td>19182.55</td>\n",
       "      <td>2021-06-24</td>\n",
       "    </tr>\n",
       "    <tr>\n",
       "      <th>3</th>\n",
       "      <td>09. 08. 2021</td>\n",
       "      <td>Mason, Armstrong and Whitaker</td>\n",
       "      <td>66295.23</td>\n",
       "      <td>2021-09-08</td>\n",
       "    </tr>\n",
       "    <tr>\n",
       "      <th>4</th>\n",
       "      <td>29. 06. 2021</td>\n",
       "      <td>Dickerson-Blankenship</td>\n",
       "      <td>88592.58</td>\n",
       "      <td>2021-06-29</td>\n",
       "    </tr>\n",
       "  </tbody>\n",
       "</table>\n",
       "</div>"
      ],
      "text/plain": [
       "   invoice_date                       customer    amount  \\\n",
       "0  24. 07. 2021                 Robbins-Bryant  42424.49   \n",
       "1  03. 06. 2021   Little, Espinoza and Manning   6269.53   \n",
       "2  24. 06. 2021                 Hartman-Garcia  19182.55   \n",
       "3  09. 08. 2021  Mason, Armstrong and Whitaker  66295.23   \n",
       "4  29. 06. 2021          Dickerson-Blankenship  88592.58   \n",
       "\n",
       "  invoice_date_converted  \n",
       "0             2021-07-24  \n",
       "1             2021-03-06  \n",
       "2             2021-06-24  \n",
       "3             2021-09-08  \n",
       "4             2021-06-29  "
      ]
     },
     "execution_count": 6,
     "metadata": {},
     "output_type": "execute_result"
    }
   ],
   "source": [
    "invoices[\"invoice_date_converted\"] = pandas.to_datetime(invoices[\"invoice_date\"])\n",
    "invoices.head()"
   ]
  },
  {
   "attachments": {},
   "cell_type": "markdown",
   "metadata": {},
   "source": [
    "Sice data převedl na datový typ - čísla, ale datum převedl špatně dle amerického typu zápisu, což je špatně."
   ]
  },
  {
   "attachments": {},
   "cell_type": "markdown",
   "metadata": {},
   "source": [
    "C:\\Users\\jirip\\AppData\\Local\\Temp\\ipykernel_17604\\466789594.py:1: UserWarning: Parsing dates in %d. %m. %Y format when dayfirst=False (the default) was specified. Pass `dayfirst=True` or specify a format to silence this warning.\n",
    "  invoices[\"invoice_date_converted\"] = pandas.to_datetime(invoices[\"invoice_date\"])\n",
    "Jedná se o varování - jak pandas převádí data, která jsou zapsaná %d. %m. %Y a že není nastaven parametr dayfirst=False, tedy musíme zadat parametr dayfirst=True, pak  bude zápis v pořádku - je dobré ho zadávat vždy"
   ]
  },
  {
   "attachments": {},
   "cell_type": "markdown",
   "metadata": {},
   "source": [
    "Překvapivé je, že si pandas s českým formátem poradil. Resp. se to tak zdá. Pokud si ale sloupce pečlivě porovnáme, zjistíme, že v případě řádku 1 byl 3. červen transformován na 6. březen.\n",
    "\n",
    "Pandas totiž předpokládá **americký styl zápisu**, který má (z nepochopitelných důvodů) na prvním místě měsíc a na druhém místě den. Není však dogmatický a u 2 řádku pochopil, že 27 číslo měsíce není a datum převede správně. Již mu ale nedojde, že by mohl stejným stylem převést ostatní data (a ostatně ani není zaručeno, že všechna data musí mít stejný formát).\n",
    "\n",
    "První možností, jak si s tím poradit, je nastavení parametru `dayfirst`, kterým říkáme, že číslo jde je před číslem měsíce. Je zřejmé, že výchozí hodnota parametru je `False`."
   ]
  },
  {
   "cell_type": "code",
   "execution_count": 8,
   "metadata": {},
   "outputs": [
    {
     "data": {
      "text/html": [
       "<div>\n",
       "<style scoped>\n",
       "    .dataframe tbody tr th:only-of-type {\n",
       "        vertical-align: middle;\n",
       "    }\n",
       "\n",
       "    .dataframe tbody tr th {\n",
       "        vertical-align: top;\n",
       "    }\n",
       "\n",
       "    .dataframe thead th {\n",
       "        text-align: right;\n",
       "    }\n",
       "</style>\n",
       "<table border=\"1\" class=\"dataframe\">\n",
       "  <thead>\n",
       "    <tr style=\"text-align: right;\">\n",
       "      <th></th>\n",
       "      <th>invoice_date</th>\n",
       "      <th>customer</th>\n",
       "      <th>amount</th>\n",
       "      <th>invoice_date_converted</th>\n",
       "    </tr>\n",
       "  </thead>\n",
       "  <tbody>\n",
       "    <tr>\n",
       "      <th>0</th>\n",
       "      <td>24. 07. 2021</td>\n",
       "      <td>Robbins-Bryant</td>\n",
       "      <td>42424.49</td>\n",
       "      <td>2021-07-24</td>\n",
       "    </tr>\n",
       "    <tr>\n",
       "      <th>1</th>\n",
       "      <td>03. 06. 2021</td>\n",
       "      <td>Little, Espinoza and Manning</td>\n",
       "      <td>6269.53</td>\n",
       "      <td>2021-06-03</td>\n",
       "    </tr>\n",
       "    <tr>\n",
       "      <th>2</th>\n",
       "      <td>24. 06. 2021</td>\n",
       "      <td>Hartman-Garcia</td>\n",
       "      <td>19182.55</td>\n",
       "      <td>2021-06-24</td>\n",
       "    </tr>\n",
       "    <tr>\n",
       "      <th>3</th>\n",
       "      <td>09. 08. 2021</td>\n",
       "      <td>Mason, Armstrong and Whitaker</td>\n",
       "      <td>66295.23</td>\n",
       "      <td>2021-08-09</td>\n",
       "    </tr>\n",
       "    <tr>\n",
       "      <th>4</th>\n",
       "      <td>29. 06. 2021</td>\n",
       "      <td>Dickerson-Blankenship</td>\n",
       "      <td>88592.58</td>\n",
       "      <td>2021-06-29</td>\n",
       "    </tr>\n",
       "  </tbody>\n",
       "</table>\n",
       "</div>"
      ],
      "text/plain": [
       "   invoice_date                       customer    amount  \\\n",
       "0  24. 07. 2021                 Robbins-Bryant  42424.49   \n",
       "1  03. 06. 2021   Little, Espinoza and Manning   6269.53   \n",
       "2  24. 06. 2021                 Hartman-Garcia  19182.55   \n",
       "3  09. 08. 2021  Mason, Armstrong and Whitaker  66295.23   \n",
       "4  29. 06. 2021          Dickerson-Blankenship  88592.58   \n",
       "\n",
       "  invoice_date_converted  \n",
       "0             2021-07-24  \n",
       "1             2021-06-03  \n",
       "2             2021-06-24  \n",
       "3             2021-08-09  \n",
       "4             2021-06-29  "
      ]
     },
     "execution_count": 8,
     "metadata": {},
     "output_type": "execute_result"
    }
   ],
   "source": [
    "invoices[\"invoice_date_converted\"] = pandas.to_datetime(invoices[\"invoice_date\"], dayfirst=True)\n",
    "invoices.head()"
   ]
  },
  {
   "attachments": {},
   "cell_type": "markdown",
   "metadata": {},
   "source": [
    "## Přičítání a porovnávání\n",
    "\n",
    "Každá faktura má nějaký datum splatnosti. Nyní chceme přidat sloupec s datem splatnosti s tím, že datum splatnosti je vždy 60 dní po vystavení faktury. K tomu využijeme třídu `Timedelta` modulu `pandas`. (delta-rozdíl nebo změna)\n",
    "\n",
    "Třída umožňuje poměrně jednoduché vytvoření hodnoty zápisem `\"60 days\"` coby řetězce. Alternativně můžeme použít [ISO normu](https://en.wikipedia.org/wiki/ISO_8601#Durations) pro zápis délky trvání a zapsat \"P60D\"."
   ]
  },
  {
   "cell_type": "code",
   "execution_count": 11,
   "metadata": {},
   "outputs": [
    {
     "data": {
      "text/html": [
       "<div>\n",
       "<style scoped>\n",
       "    .dataframe tbody tr th:only-of-type {\n",
       "        vertical-align: middle;\n",
       "    }\n",
       "\n",
       "    .dataframe tbody tr th {\n",
       "        vertical-align: top;\n",
       "    }\n",
       "\n",
       "    .dataframe thead th {\n",
       "        text-align: right;\n",
       "    }\n",
       "</style>\n",
       "<table border=\"1\" class=\"dataframe\">\n",
       "  <thead>\n",
       "    <tr style=\"text-align: right;\">\n",
       "      <th></th>\n",
       "      <th>invoice_date</th>\n",
       "      <th>customer</th>\n",
       "      <th>amount</th>\n",
       "      <th>invoice_date_converted</th>\n",
       "      <th>due_date</th>\n",
       "    </tr>\n",
       "  </thead>\n",
       "  <tbody>\n",
       "    <tr>\n",
       "      <th>0</th>\n",
       "      <td>24. 07. 2021</td>\n",
       "      <td>Robbins-Bryant</td>\n",
       "      <td>42424.49</td>\n",
       "      <td>2021-07-24</td>\n",
       "      <td>2021-09-22</td>\n",
       "    </tr>\n",
       "    <tr>\n",
       "      <th>1</th>\n",
       "      <td>03. 06. 2021</td>\n",
       "      <td>Little, Espinoza and Manning</td>\n",
       "      <td>6269.53</td>\n",
       "      <td>2021-06-03</td>\n",
       "      <td>2021-08-02</td>\n",
       "    </tr>\n",
       "    <tr>\n",
       "      <th>2</th>\n",
       "      <td>24. 06. 2021</td>\n",
       "      <td>Hartman-Garcia</td>\n",
       "      <td>19182.55</td>\n",
       "      <td>2021-06-24</td>\n",
       "      <td>2021-08-23</td>\n",
       "    </tr>\n",
       "    <tr>\n",
       "      <th>3</th>\n",
       "      <td>09. 08. 2021</td>\n",
       "      <td>Mason, Armstrong and Whitaker</td>\n",
       "      <td>66295.23</td>\n",
       "      <td>2021-08-09</td>\n",
       "      <td>2021-10-08</td>\n",
       "    </tr>\n",
       "    <tr>\n",
       "      <th>4</th>\n",
       "      <td>29. 06. 2021</td>\n",
       "      <td>Dickerson-Blankenship</td>\n",
       "      <td>88592.58</td>\n",
       "      <td>2021-06-29</td>\n",
       "      <td>2021-08-28</td>\n",
       "    </tr>\n",
       "  </tbody>\n",
       "</table>\n",
       "</div>"
      ],
      "text/plain": [
       "   invoice_date                       customer    amount  \\\n",
       "0  24. 07. 2021                 Robbins-Bryant  42424.49   \n",
       "1  03. 06. 2021   Little, Espinoza and Manning   6269.53   \n",
       "2  24. 06. 2021                 Hartman-Garcia  19182.55   \n",
       "3  09. 08. 2021  Mason, Armstrong and Whitaker  66295.23   \n",
       "4  29. 06. 2021          Dickerson-Blankenship  88592.58   \n",
       "\n",
       "  invoice_date_converted   due_date  \n",
       "0             2021-07-24 2021-09-22  \n",
       "1             2021-06-03 2021-08-02  \n",
       "2             2021-06-24 2021-08-23  \n",
       "3             2021-08-09 2021-10-08  \n",
       "4             2021-06-29 2021-08-28  "
      ]
     },
     "execution_count": 11,
     "metadata": {},
     "output_type": "execute_result"
    }
   ],
   "source": [
    "invoices[\"due_date\"] = invoices[\"invoice_date_converted\"] + pandas.Timedelta(\"P60D\")\n",
    "invoices.head()"
   ]
  },
  {
   "attachments": {},
   "cell_type": "markdown",
   "metadata": {},
   "source": [
    "pokud chceme odčítat, tak napíšeme - pandas.Timedelta (\"P60D\") - číslo se zadává libovolné dle potřeby"
   ]
  },
  {
   "attachments": {},
   "cell_type": "markdown",
   "metadata": {},
   "source": [
    "Pojďme nyní roztřídit faktury na ty, které jsou před splatností a ty, které jsou po splatnosti. Třídění budeme provádět k 1. září 2021. Vytvoříme tedy objekt, který reprezentuje toto datum (využijeme standardní modul `datetime`) a funkci `where()` z modulu `numpy`, která slouží k zápisu podmínky.\n",
    "\n",
    "Přidáme sloupec `status`, který bude obsahovat texty `overdue` a `before due date`."
   ]
  },
  {
   "attachments": {},
   "cell_type": "markdown",
   "metadata": {},
   "source": [
    "import datetime - modul pythonu\n",
    "datetime.datetime (chcemeli nastavit konkrétní datum)\n",
    "import numpy - modul pro matematiky či vědce, slouží pro maticové výpočty, slouží pro zapsání podmínky pomocí funkce where\n",
    "numpy.where()"
   ]
  },
  {
   "cell_type": "code",
   "execution_count": 14,
   "metadata": {},
   "outputs": [
    {
     "data": {
      "text/html": [
       "<div>\n",
       "<style scoped>\n",
       "    .dataframe tbody tr th:only-of-type {\n",
       "        vertical-align: middle;\n",
       "    }\n",
       "\n",
       "    .dataframe tbody tr th {\n",
       "        vertical-align: top;\n",
       "    }\n",
       "\n",
       "    .dataframe thead th {\n",
       "        text-align: right;\n",
       "    }\n",
       "</style>\n",
       "<table border=\"1\" class=\"dataframe\">\n",
       "  <thead>\n",
       "    <tr style=\"text-align: right;\">\n",
       "      <th></th>\n",
       "      <th>invoice_date</th>\n",
       "      <th>customer</th>\n",
       "      <th>amount</th>\n",
       "      <th>invoice_date_converted</th>\n",
       "      <th>due_date</th>\n",
       "      <th>status</th>\n",
       "    </tr>\n",
       "  </thead>\n",
       "  <tbody>\n",
       "    <tr>\n",
       "      <th>0</th>\n",
       "      <td>24. 07. 2021</td>\n",
       "      <td>Robbins-Bryant</td>\n",
       "      <td>42424.49</td>\n",
       "      <td>2021-07-24</td>\n",
       "      <td>2021-09-22</td>\n",
       "      <td>before due date</td>\n",
       "    </tr>\n",
       "    <tr>\n",
       "      <th>1</th>\n",
       "      <td>03. 06. 2021</td>\n",
       "      <td>Little, Espinoza and Manning</td>\n",
       "      <td>6269.53</td>\n",
       "      <td>2021-06-03</td>\n",
       "      <td>2021-08-02</td>\n",
       "      <td>overdue</td>\n",
       "    </tr>\n",
       "    <tr>\n",
       "      <th>2</th>\n",
       "      <td>24. 06. 2021</td>\n",
       "      <td>Hartman-Garcia</td>\n",
       "      <td>19182.55</td>\n",
       "      <td>2021-06-24</td>\n",
       "      <td>2021-08-23</td>\n",
       "      <td>overdue</td>\n",
       "    </tr>\n",
       "    <tr>\n",
       "      <th>3</th>\n",
       "      <td>09. 08. 2021</td>\n",
       "      <td>Mason, Armstrong and Whitaker</td>\n",
       "      <td>66295.23</td>\n",
       "      <td>2021-08-09</td>\n",
       "      <td>2021-10-08</td>\n",
       "      <td>before due date</td>\n",
       "    </tr>\n",
       "    <tr>\n",
       "      <th>4</th>\n",
       "      <td>29. 06. 2021</td>\n",
       "      <td>Dickerson-Blankenship</td>\n",
       "      <td>88592.58</td>\n",
       "      <td>2021-06-29</td>\n",
       "      <td>2021-08-28</td>\n",
       "      <td>overdue</td>\n",
       "    </tr>\n",
       "  </tbody>\n",
       "</table>\n",
       "</div>"
      ],
      "text/plain": [
       "   invoice_date                       customer    amount  \\\n",
       "0  24. 07. 2021                 Robbins-Bryant  42424.49   \n",
       "1  03. 06. 2021   Little, Espinoza and Manning   6269.53   \n",
       "2  24. 06. 2021                 Hartman-Garcia  19182.55   \n",
       "3  09. 08. 2021  Mason, Armstrong and Whitaker  66295.23   \n",
       "4  29. 06. 2021          Dickerson-Blankenship  88592.58   \n",
       "\n",
       "  invoice_date_converted   due_date           status  \n",
       "0             2021-07-24 2021-09-22  before due date  \n",
       "1             2021-06-03 2021-08-02          overdue  \n",
       "2             2021-06-24 2021-08-23          overdue  \n",
       "3             2021-08-09 2021-10-08  before due date  \n",
       "4             2021-06-29 2021-08-28          overdue  "
      ]
     },
     "execution_count": 14,
     "metadata": {},
     "output_type": "execute_result"
    }
   ],
   "source": [
    "import numpy\n",
    "import datetime\n",
    "today_date = datetime.datetime(2021, 9, 1)\n",
    "# numpy.where(první se píše, když podmínka platí, a druhá hodnota, když podmínka neplatí)\n",
    "invoices[\"status\"] = numpy.where(invoices[\"due_date\"] < today_date, \"overdue\", \"before due date\")\n",
    "invoices.head()\n"
   ]
  },
  {
   "attachments": {},
   "cell_type": "markdown",
   "metadata": {},
   "source": [
    "Nakonec můžeme spočítat, jaké finanční prostředky jsou ve fakturách před splatností a jaké prostředky v nezaplacených fakturách po splatnosti."
   ]
  },
  {
   "cell_type": "code",
   "execution_count": 15,
   "metadata": {},
   "outputs": [
    {
     "data": {
      "text/plain": [
       "status\n",
       "before due date    2.383203e+09\n",
       "overdue            2.604655e+09\n",
       "Name: amount, dtype: float64"
      ]
     },
     "execution_count": 15,
     "metadata": {},
     "output_type": "execute_result"
    }
   ],
   "source": [
    "invoices.groupby(\"status\")[\"amount\"].sum()"
   ]
  },
  {
   "attachments": {},
   "cell_type": "markdown",
   "metadata": {},
   "source": [
    "## Výpočty s daty\n",
    "\n",
    "Máme-li k dispozici dva různé sloupce s daty, můžeme s nimi provádět výpočty, nejčastěji počítat rozdíl, tj. délku časového intervalu mezi nimi.\n",
    "\n",
    "Uvažujme, že nyní máme k dispozici delší časovou řadu faktur. Nejprve spočítáme, po kolika dnech v průměru zaplatí fakturu jednotliví zákazníci. Tuto hodnotu pak použijeme k výpočtu očekávané splatnosti nových faktur.\n",
    "\n",
    "Nejprve načteme tabulku s fakturami."
   ]
  },
  {
   "attachments": {},
   "cell_type": "markdown",
   "metadata": {},
   "source": [
    "A zároveň rovnou převedeme sloupečky invoice_date a payment_date na data"
   ]
  },
  {
   "cell_type": "code",
   "execution_count": 19,
   "metadata": {},
   "outputs": [
    {
     "data": {
      "text/html": [
       "<div>\n",
       "<style scoped>\n",
       "    .dataframe tbody tr th:only-of-type {\n",
       "        vertical-align: middle;\n",
       "    }\n",
       "\n",
       "    .dataframe tbody tr th {\n",
       "        vertical-align: top;\n",
       "    }\n",
       "\n",
       "    .dataframe thead th {\n",
       "        text-align: right;\n",
       "    }\n",
       "</style>\n",
       "<table border=\"1\" class=\"dataframe\">\n",
       "  <thead>\n",
       "    <tr style=\"text-align: right;\">\n",
       "      <th></th>\n",
       "      <th>invoice_date</th>\n",
       "      <th>customer</th>\n",
       "      <th>amount</th>\n",
       "      <th>payment_date</th>\n",
       "    </tr>\n",
       "  </thead>\n",
       "  <tbody>\n",
       "    <tr>\n",
       "      <th>0</th>\n",
       "      <td>2016-05-01</td>\n",
       "      <td>Campos PLC</td>\n",
       "      <td>29366</td>\n",
       "      <td>2016-06-25</td>\n",
       "    </tr>\n",
       "    <tr>\n",
       "      <th>1</th>\n",
       "      <td>2016-05-10</td>\n",
       "      <td>Garcia, Hamilton and Carr</td>\n",
       "      <td>61145</td>\n",
       "      <td>2016-07-16</td>\n",
       "    </tr>\n",
       "    <tr>\n",
       "      <th>2</th>\n",
       "      <td>2016-05-20</td>\n",
       "      <td>Garcia, Hamilton and Carr</td>\n",
       "      <td>92659</td>\n",
       "      <td>2016-07-26</td>\n",
       "    </tr>\n",
       "    <tr>\n",
       "      <th>3</th>\n",
       "      <td>2016-05-25</td>\n",
       "      <td>Nguyen, Harrell and Lee</td>\n",
       "      <td>40076</td>\n",
       "      <td>2016-08-05</td>\n",
       "    </tr>\n",
       "    <tr>\n",
       "      <th>4</th>\n",
       "      <td>2016-06-04</td>\n",
       "      <td>Garcia, Hamilton and Carr</td>\n",
       "      <td>54854</td>\n",
       "      <td>2016-08-06</td>\n",
       "    </tr>\n",
       "  </tbody>\n",
       "</table>\n",
       "</div>"
      ],
      "text/plain": [
       "  invoice_date                   customer  amount payment_date\n",
       "0   2016-05-01                 Campos PLC   29366   2016-06-25\n",
       "1   2016-05-10  Garcia, Hamilton and Carr   61145   2016-07-16\n",
       "2   2016-05-20  Garcia, Hamilton and Carr   92659   2016-07-26\n",
       "3   2016-05-25    Nguyen, Harrell and Lee   40076   2016-08-05\n",
       "4   2016-06-04  Garcia, Hamilton and Carr   54854   2016-08-06"
      ]
     },
     "execution_count": 19,
     "metadata": {},
     "output_type": "execute_result"
    }
   ],
   "source": [
    "invoices_2 = pandas.read_csv(\"invoices_2.csv\")\n",
    "invoices_2[\"invoice_date\"] = pandas.to_datetime(invoices_2[\"invoice_date\"], dayfirst=True)\n",
    "invoices_2[\"payment_date\"] = pandas.to_datetime(invoices_2[\"payment_date\"], dayfirst=True)\n",
    "invoices_2.head()\n",
    "\n"
   ]
  },
  {
   "attachments": {},
   "cell_type": "markdown",
   "metadata": {},
   "source": [
    "V první části se budeme zabývat splacenými fakturami. Splacené faktury mají prázdnou hodnotu ve sloupci `payment_date`, vyfiltrujeme je pomocí metody `dropna`. Čas, který zákazník potřeboval na splacení faktury, získáme pomocí rozdílu sloupců `payment_date` a `invoice_date`."
   ]
  },
  {
   "cell_type": "code",
   "execution_count": 23,
   "metadata": {},
   "outputs": [
    {
     "data": {
      "text/html": [
       "<div>\n",
       "<style scoped>\n",
       "    .dataframe tbody tr th:only-of-type {\n",
       "        vertical-align: middle;\n",
       "    }\n",
       "\n",
       "    .dataframe tbody tr th {\n",
       "        vertical-align: top;\n",
       "    }\n",
       "\n",
       "    .dataframe thead th {\n",
       "        text-align: right;\n",
       "    }\n",
       "</style>\n",
       "<table border=\"1\" class=\"dataframe\">\n",
       "  <thead>\n",
       "    <tr style=\"text-align: right;\">\n",
       "      <th></th>\n",
       "      <th>invoice_date</th>\n",
       "      <th>customer</th>\n",
       "      <th>amount</th>\n",
       "      <th>payment_date</th>\n",
       "      <th>paid_in</th>\n",
       "    </tr>\n",
       "  </thead>\n",
       "  <tbody>\n",
       "    <tr>\n",
       "      <th>0</th>\n",
       "      <td>2016-05-01</td>\n",
       "      <td>Campos PLC</td>\n",
       "      <td>29366</td>\n",
       "      <td>2016-06-25</td>\n",
       "      <td>55 days</td>\n",
       "    </tr>\n",
       "    <tr>\n",
       "      <th>1</th>\n",
       "      <td>2016-05-10</td>\n",
       "      <td>Garcia, Hamilton and Carr</td>\n",
       "      <td>61145</td>\n",
       "      <td>2016-07-16</td>\n",
       "      <td>67 days</td>\n",
       "    </tr>\n",
       "    <tr>\n",
       "      <th>2</th>\n",
       "      <td>2016-05-20</td>\n",
       "      <td>Garcia, Hamilton and Carr</td>\n",
       "      <td>92659</td>\n",
       "      <td>2016-07-26</td>\n",
       "      <td>67 days</td>\n",
       "    </tr>\n",
       "    <tr>\n",
       "      <th>3</th>\n",
       "      <td>2016-05-25</td>\n",
       "      <td>Nguyen, Harrell and Lee</td>\n",
       "      <td>40076</td>\n",
       "      <td>2016-08-05</td>\n",
       "      <td>72 days</td>\n",
       "    </tr>\n",
       "    <tr>\n",
       "      <th>4</th>\n",
       "      <td>2016-06-04</td>\n",
       "      <td>Garcia, Hamilton and Carr</td>\n",
       "      <td>54854</td>\n",
       "      <td>2016-08-06</td>\n",
       "      <td>63 days</td>\n",
       "    </tr>\n",
       "  </tbody>\n",
       "</table>\n",
       "</div>"
      ],
      "text/plain": [
       "  invoice_date                   customer  amount payment_date paid_in\n",
       "0   2016-05-01                 Campos PLC   29366   2016-06-25 55 days\n",
       "1   2016-05-10  Garcia, Hamilton and Carr   61145   2016-07-16 67 days\n",
       "2   2016-05-20  Garcia, Hamilton and Carr   92659   2016-07-26 67 days\n",
       "3   2016-05-25    Nguyen, Harrell and Lee   40076   2016-08-05 72 days\n",
       "4   2016-06-04  Garcia, Hamilton and Carr   54854   2016-08-06 63 days"
      ]
     },
     "execution_count": 23,
     "metadata": {},
     "output_type": "execute_result"
    }
   ],
   "source": [
    "\n",
    "invoices_2_paid = invoices_2.dropna().reset_index(drop=True)\n",
    "\n",
    "invoices_2_paid[\"paid_in\"] = invoices_2_paid[\"payment_date\"] - invoices_2_paid[\"invoice_date\"]\n",
    "# pandas.DataFrame(invoices_2.groupby(\"customer\")[\"paid_in\"].mean())\n",
    "invoices_2_paid.head()"
   ]
  },
  {
   "attachments": {},
   "cell_type": "markdown",
   "metadata": {},
   "source": [
    "Hodnota rozdílu je uložené jako datový typ `timedelta`."
   ]
  },
  {
   "cell_type": "code",
   "execution_count": 24,
   "metadata": {},
   "outputs": [
    {
     "data": {
      "text/plain": [
       "invoice_date     datetime64[ns]\n",
       "customer                 object\n",
       "amount                    int64\n",
       "payment_date     datetime64[ns]\n",
       "paid_in         timedelta64[ns]\n",
       "dtype: object"
      ]
     },
     "execution_count": 24,
     "metadata": {},
     "output_type": "execute_result"
    }
   ],
   "source": [
    "invoices_2_paid.dtypes"
   ]
  },
  {
   "attachments": {},
   "cell_type": "markdown",
   "metadata": {},
   "source": [
    "Nyní provedeme agregaci dle zákazníka a zjistíme tak průměrnou dobu splatnosti faktury."
   ]
  },
  {
   "cell_type": "code",
   "execution_count": 26,
   "metadata": {},
   "outputs": [
    {
     "data": {
      "text/html": [
       "<div>\n",
       "<style scoped>\n",
       "    .dataframe tbody tr th:only-of-type {\n",
       "        vertical-align: middle;\n",
       "    }\n",
       "\n",
       "    .dataframe tbody tr th {\n",
       "        vertical-align: top;\n",
       "    }\n",
       "\n",
       "    .dataframe thead th {\n",
       "        text-align: right;\n",
       "    }\n",
       "</style>\n",
       "<table border=\"1\" class=\"dataframe\">\n",
       "  <thead>\n",
       "    <tr style=\"text-align: right;\">\n",
       "      <th></th>\n",
       "      <th>paid_in</th>\n",
       "    </tr>\n",
       "    <tr>\n",
       "      <th>customer</th>\n",
       "      <th></th>\n",
       "    </tr>\n",
       "  </thead>\n",
       "  <tbody>\n",
       "    <tr>\n",
       "      <th>Archer-Patel</th>\n",
       "      <td>46 days 20:34:17.142857143</td>\n",
       "    </tr>\n",
       "    <tr>\n",
       "      <th>Campos PLC</th>\n",
       "      <td>60 days 00:00:00</td>\n",
       "    </tr>\n",
       "    <tr>\n",
       "      <th>Chang-Fisher</th>\n",
       "      <td>63 days 05:20:00</td>\n",
       "    </tr>\n",
       "    <tr>\n",
       "      <th>Clayton-Cook</th>\n",
       "      <td>69 days 22:09:13.846153846</td>\n",
       "    </tr>\n",
       "    <tr>\n",
       "      <th>Faulkner-Howard</th>\n",
       "      <td>74 days 06:32:43.636363636</td>\n",
       "    </tr>\n",
       "  </tbody>\n",
       "</table>\n",
       "</div>"
      ],
      "text/plain": [
       "                                   paid_in\n",
       "customer                                  \n",
       "Archer-Patel    46 days 20:34:17.142857143\n",
       "Campos PLC                60 days 00:00:00\n",
       "Chang-Fisher              63 days 05:20:00\n",
       "Clayton-Cook    69 days 22:09:13.846153846\n",
       "Faulkner-Howard 74 days 06:32:43.636363636"
      ]
     },
     "execution_count": 26,
     "metadata": {},
     "output_type": "execute_result"
    }
   ],
   "source": [
    "average_payment_data = pandas.DataFrame(invoices_2_paid.groupby([\"customer\"])[\"paid_in\"].mean())\n",
    "average_payment_data.head()\n",
    "# pandas.DataFrame - pro Jupyter - pro lepší zobrazení tabulek\n"
   ]
  },
  {
   "attachments": {},
   "cell_type": "markdown",
   "metadata": {},
   "source": [
    "Dokončení příkladu"
   ]
  },
  {
   "attachments": {},
   "cell_type": "markdown",
   "metadata": {},
   "source": [
    "Nyní budeme pracovat s nesplacenými fakturami, které získáme např. dotazem s využitím metody `isna()`. Poté propojíme tabulku s nesplacenými fakturami s tabulkou průměrných splatností a přičteme průměrnou dobu splatnosti k datu vystavení faktury. Abychom získali splatnost jako den, použijeme vlastnost `dt.date`."
   ]
  },
  {
   "cell_type": "code",
   "execution_count": 25,
   "metadata": {},
   "outputs": [
    {
     "data": {
      "text/html": [
       "<div>\n",
       "<style scoped>\n",
       "    .dataframe tbody tr th:only-of-type {\n",
       "        vertical-align: middle;\n",
       "    }\n",
       "\n",
       "    .dataframe tbody tr th {\n",
       "        vertical-align: top;\n",
       "    }\n",
       "\n",
       "    .dataframe thead th {\n",
       "        text-align: right;\n",
       "    }\n",
       "</style>\n",
       "<table border=\"1\" class=\"dataframe\">\n",
       "  <thead>\n",
       "    <tr style=\"text-align: right;\">\n",
       "      <th></th>\n",
       "      <th>invoice_date</th>\n",
       "      <th>customer</th>\n",
       "      <th>amount</th>\n",
       "      <th>payment_date</th>\n",
       "      <th>paid_in</th>\n",
       "      <th>expected_payment_date</th>\n",
       "    </tr>\n",
       "  </thead>\n",
       "  <tbody>\n",
       "    <tr>\n",
       "      <th>0</th>\n",
       "      <td>2021-07-02</td>\n",
       "      <td>Nguyen, Harrell and Lee</td>\n",
       "      <td>93301</td>\n",
       "      <td>NaN</td>\n",
       "      <td>67 days 05:08:34.285714286</td>\n",
       "      <td>2021-09-07</td>\n",
       "    </tr>\n",
       "    <tr>\n",
       "      <th>1</th>\n",
       "      <td>2021-07-09</td>\n",
       "      <td>Levy Group</td>\n",
       "      <td>43621</td>\n",
       "      <td>NaN</td>\n",
       "      <td>65 days 00:00:00</td>\n",
       "      <td>2021-09-12</td>\n",
       "    </tr>\n",
       "    <tr>\n",
       "      <th>2</th>\n",
       "      <td>2021-08-05</td>\n",
       "      <td>Levy Group</td>\n",
       "      <td>39651</td>\n",
       "      <td>NaN</td>\n",
       "      <td>65 days 00:00:00</td>\n",
       "      <td>2021-10-09</td>\n",
       "    </tr>\n",
       "    <tr>\n",
       "      <th>3</th>\n",
       "      <td>2021-07-16</td>\n",
       "      <td>Wagner LLC</td>\n",
       "      <td>65064</td>\n",
       "      <td>NaN</td>\n",
       "      <td>58 days 05:08:34.285714286</td>\n",
       "      <td>2021-09-12</td>\n",
       "    </tr>\n",
       "    <tr>\n",
       "      <th>4</th>\n",
       "      <td>2021-07-22</td>\n",
       "      <td>Jones, Jefferson and Rivera</td>\n",
       "      <td>98317</td>\n",
       "      <td>NaN</td>\n",
       "      <td>71 days 15:00:00</td>\n",
       "      <td>2021-10-01</td>\n",
       "    </tr>\n",
       "  </tbody>\n",
       "</table>\n",
       "</div>"
      ],
      "text/plain": [
       "  invoice_date                     customer  amount payment_date   \n",
       "0   2021-07-02      Nguyen, Harrell and Lee   93301          NaN  \\\n",
       "1   2021-07-09                   Levy Group   43621          NaN   \n",
       "2   2021-08-05                   Levy Group   39651          NaN   \n",
       "3   2021-07-16                   Wagner LLC   65064          NaN   \n",
       "4   2021-07-22  Jones, Jefferson and Rivera   98317          NaN   \n",
       "\n",
       "                     paid_in expected_payment_date  \n",
       "0 67 days 05:08:34.285714286            2021-09-07  \n",
       "1           65 days 00:00:00            2021-09-12  \n",
       "2           65 days 00:00:00            2021-10-09  \n",
       "3 58 days 05:08:34.285714286            2021-09-12  \n",
       "4           71 days 15:00:00            2021-10-01  "
      ]
     },
     "execution_count": 25,
     "metadata": {},
     "output_type": "execute_result"
    }
   ],
   "source": [
    "invoices_2_not_paid = invoices_2[invoices_2[\"payment_date\"].isna()]\n",
    "invoices_2_not_paid = pandas.merge(invoices_2_not_paid, average_payment_data, on=[\"customer\"])\n",
    "invoices_2_not_paid[\"expected_payment_date\"] = invoices_2_not_paid[\"invoice_date\"] + pandas.to_timedelta(invoices_2_not_paid[\"paid_in\"], unit=\"D\")\n",
    "invoices_2_not_paid[\"expected_payment_date\"] = invoices_2_not_paid[\"expected_payment_date\"].dt.date\n",
    "invoices_2_not_paid.head()"
   ]
  },
  {
   "attachments": {},
   "cell_type": "markdown",
   "metadata": {},
   "source": [
    "## Použití metody shift\n",
    "\n",
    "V některých případech se v datech potřebujeme podívat o řádek výše nebo níže, často to může být v souvislosti s datem a časem. Uvažujme například nějaký program, který zapisuje začátek a konec nějaké události. Událost a její typ vždy zapíše jako samostatný řádek. Abychom zjistili délku události, potřebujeme spočítat rozdíl mezi hodnotami data a času ve dvou řádích. K tomu slouží metoda `shift`.\n",
    "\n",
    "Uvažujme například zařízení, které monitoruje výpadky televizního signálu. Zařízení zapisuje záznamy o začátku a konci výpadku do logovacího souboru.\n"
   ]
  },
  {
   "cell_type": "code",
   "execution_count": 29,
   "metadata": {},
   "outputs": [
    {
     "data": {
      "text/html": [
       "<div>\n",
       "<style scoped>\n",
       "    .dataframe tbody tr th:only-of-type {\n",
       "        vertical-align: middle;\n",
       "    }\n",
       "\n",
       "    .dataframe tbody tr th {\n",
       "        vertical-align: top;\n",
       "    }\n",
       "\n",
       "    .dataframe thead th {\n",
       "        text-align: right;\n",
       "    }\n",
       "</style>\n",
       "<table border=\"1\" class=\"dataframe\">\n",
       "  <thead>\n",
       "    <tr style=\"text-align: right;\">\n",
       "      <th></th>\n",
       "      <th>event_type</th>\n",
       "      <th>event_date_time</th>\n",
       "    </tr>\n",
       "  </thead>\n",
       "  <tbody>\n",
       "    <tr>\n",
       "      <th>0</th>\n",
       "      <td>signal lost</td>\n",
       "      <td>2021-02-03 00:40:08</td>\n",
       "    </tr>\n",
       "    <tr>\n",
       "      <th>1</th>\n",
       "      <td>signal restored</td>\n",
       "      <td>2021-02-03 01:14:11</td>\n",
       "    </tr>\n",
       "    <tr>\n",
       "      <th>2</th>\n",
       "      <td>signal lost</td>\n",
       "      <td>2021-02-05 19:14:19</td>\n",
       "    </tr>\n",
       "    <tr>\n",
       "      <th>3</th>\n",
       "      <td>signal restored</td>\n",
       "      <td>2021-02-05 19:46:29</td>\n",
       "    </tr>\n",
       "    <tr>\n",
       "      <th>4</th>\n",
       "      <td>signal lost</td>\n",
       "      <td>2021-02-06 14:31:34</td>\n",
       "    </tr>\n",
       "  </tbody>\n",
       "</table>\n",
       "</div>"
      ],
      "text/plain": [
       "        event_type      event_date_time\n",
       "0      signal lost  2021-02-03 00:40:08\n",
       "1  signal restored  2021-02-03 01:14:11\n",
       "2      signal lost  2021-02-05 19:14:19\n",
       "3  signal restored  2021-02-05 19:46:29\n",
       "4      signal lost  2021-02-06 14:31:34"
      ]
     },
     "execution_count": 29,
     "metadata": {},
     "output_type": "execute_result"
    }
   ],
   "source": [
    "signal_monitoring = pandas.read_csv(\"signal_monitoring.csv\")\n",
    "# převedení na datový typ - datum - datetime\n",
    "signal_monitoring[\"event_date_time\"] = pandas.to_datetime(signal_monitoring[\"event_date_time\"])\n",
    "signal_monitoring.head()"
   ]
  },
  {
   "attachments": {},
   "cell_type": "markdown",
   "metadata": {},
   "source": [
    "Nyní použijeme metodu `shift` na sloupec `event_date_time`. Pomocí metody pak přidáme k tabulce **nový sloupec**. Nejdůležitějším parametrem metody je parametr `periods`, který může mít kladnou nebo zápornou hodnotu.\n",
    "\n",
    "- Kladná hodnota parametru `periods` znamená, že hodnoty budou posunuty směrem dolů.\n",
    "- Záporná hodnota parametru `periods` znamená, že hodnoty budou posunuty směrem nahoru.\n",
    "\n",
    "Pro náš případ bude ideální, pokud posuneme hodnoty sloupce `event_date_time` o jeden řádek směrem nahoru. Tím zajistíme, že pokud má sloupec `event_type` hodnotu `signal lost`, uvidíme v jednom řádku začátek i konec výpadku. Tím padem bude stačit tyto hodnoty od sebe odečíst. Pro `event_type` `signal restored` nebude mít tato hodnota smysl, ale to nevadí, tyto řádky můžeme pomocí dotazu z tabulky odfiltrovat."
   ]
  },
  {
   "cell_type": "code",
   "execution_count": 37,
   "metadata": {},
   "outputs": [
    {
     "data": {
      "text/html": [
       "<div>\n",
       "<style scoped>\n",
       "    .dataframe tbody tr th:only-of-type {\n",
       "        vertical-align: middle;\n",
       "    }\n",
       "\n",
       "    .dataframe tbody tr th {\n",
       "        vertical-align: top;\n",
       "    }\n",
       "\n",
       "    .dataframe thead th {\n",
       "        text-align: right;\n",
       "    }\n",
       "</style>\n",
       "<table border=\"1\" class=\"dataframe\">\n",
       "  <thead>\n",
       "    <tr style=\"text-align: right;\">\n",
       "      <th></th>\n",
       "      <th>event_type</th>\n",
       "      <th>event_date_time</th>\n",
       "      <th>event_end_date_time</th>\n",
       "    </tr>\n",
       "  </thead>\n",
       "  <tbody>\n",
       "    <tr>\n",
       "      <th>0</th>\n",
       "      <td>signal lost</td>\n",
       "      <td>2021-02-03 00:40:08</td>\n",
       "      <td>2021-02-05 19:14:19</td>\n",
       "    </tr>\n",
       "    <tr>\n",
       "      <th>2</th>\n",
       "      <td>signal lost</td>\n",
       "      <td>2021-02-05 19:14:19</td>\n",
       "      <td>2021-02-06 14:31:34</td>\n",
       "    </tr>\n",
       "    <tr>\n",
       "      <th>4</th>\n",
       "      <td>signal lost</td>\n",
       "      <td>2021-02-06 14:31:34</td>\n",
       "      <td>2021-02-08 04:59:20</td>\n",
       "    </tr>\n",
       "    <tr>\n",
       "      <th>6</th>\n",
       "      <td>signal lost</td>\n",
       "      <td>2021-02-08 04:59:20</td>\n",
       "      <td>2021-02-09 14:21:25</td>\n",
       "    </tr>\n",
       "    <tr>\n",
       "      <th>8</th>\n",
       "      <td>signal lost</td>\n",
       "      <td>2021-02-09 14:21:25</td>\n",
       "      <td>2021-02-09 20:07:49</td>\n",
       "    </tr>\n",
       "  </tbody>\n",
       "</table>\n",
       "</div>"
      ],
      "text/plain": [
       "    event_type      event_date_time  event_end_date_time\n",
       "0  signal lost  2021-02-03 00:40:08  2021-02-05 19:14:19\n",
       "2  signal lost  2021-02-05 19:14:19  2021-02-06 14:31:34\n",
       "4  signal lost  2021-02-06 14:31:34  2021-02-08 04:59:20\n",
       "6  signal lost  2021-02-08 04:59:20  2021-02-09 14:21:25\n",
       "8  signal lost  2021-02-09 14:21:25  2021-02-09 20:07:49"
      ]
     },
     "execution_count": 37,
     "metadata": {},
     "output_type": "execute_result"
    }
   ],
   "source": [
    "# přidáme nový sloupec (obnovení signálu), a přidáme metody shift s parametrem period - kde určíme o \n",
    "# kolik řádků se má jiný řádek posunout\n",
    "# směrem nahoru zadám zápornou hodnotu\n",
    "# směrem dolu zadám kladnou hodnotu\n",
    "signal_monitoring[\"event_end_date_time\"] = signal_monitoring[\"event_date_time\"].shift(periods=-1)\n",
    "signal_monitoring.head()"
   ]
  },
  {
   "attachments": {},
   "cell_type": "markdown",
   "metadata": {},
   "source": [
    "Nyní odebereme přebytečné řádky."
   ]
  },
  {
   "cell_type": "code",
   "execution_count": 40,
   "metadata": {},
   "outputs": [
    {
     "data": {
      "text/html": [
       "<div>\n",
       "<style scoped>\n",
       "    .dataframe tbody tr th:only-of-type {\n",
       "        vertical-align: middle;\n",
       "    }\n",
       "\n",
       "    .dataframe tbody tr th {\n",
       "        vertical-align: top;\n",
       "    }\n",
       "\n",
       "    .dataframe thead th {\n",
       "        text-align: right;\n",
       "    }\n",
       "</style>\n",
       "<table border=\"1\" class=\"dataframe\">\n",
       "  <thead>\n",
       "    <tr style=\"text-align: right;\">\n",
       "      <th></th>\n",
       "      <th>event_type</th>\n",
       "      <th>event_date_time</th>\n",
       "      <th>event_end_date_time</th>\n",
       "    </tr>\n",
       "  </thead>\n",
       "  <tbody>\n",
       "    <tr>\n",
       "      <th>0</th>\n",
       "      <td>signal lost</td>\n",
       "      <td>2021-02-03 00:40:08</td>\n",
       "      <td>2021-02-05 19:14:19</td>\n",
       "    </tr>\n",
       "    <tr>\n",
       "      <th>2</th>\n",
       "      <td>signal lost</td>\n",
       "      <td>2021-02-05 19:14:19</td>\n",
       "      <td>2021-02-06 14:31:34</td>\n",
       "    </tr>\n",
       "    <tr>\n",
       "      <th>4</th>\n",
       "      <td>signal lost</td>\n",
       "      <td>2021-02-06 14:31:34</td>\n",
       "      <td>2021-02-08 04:59:20</td>\n",
       "    </tr>\n",
       "    <tr>\n",
       "      <th>6</th>\n",
       "      <td>signal lost</td>\n",
       "      <td>2021-02-08 04:59:20</td>\n",
       "      <td>2021-02-09 14:21:25</td>\n",
       "    </tr>\n",
       "    <tr>\n",
       "      <th>8</th>\n",
       "      <td>signal lost</td>\n",
       "      <td>2021-02-09 14:21:25</td>\n",
       "      <td>2021-02-09 20:07:49</td>\n",
       "    </tr>\n",
       "  </tbody>\n",
       "</table>\n",
       "</div>"
      ],
      "text/plain": [
       "    event_type      event_date_time  event_end_date_time\n",
       "0  signal lost  2021-02-03 00:40:08  2021-02-05 19:14:19\n",
       "2  signal lost  2021-02-05 19:14:19  2021-02-06 14:31:34\n",
       "4  signal lost  2021-02-06 14:31:34  2021-02-08 04:59:20\n",
       "6  signal lost  2021-02-08 04:59:20  2021-02-09 14:21:25\n",
       "8  signal lost  2021-02-09 14:21:25  2021-02-09 20:07:49"
      ]
     },
     "execution_count": 40,
     "metadata": {},
     "output_type": "execute_result"
    }
   ],
   "source": [
    "# vybírám řádky, kde je ve sloupci event_type hodnota signal lost\n",
    "signal_monitoring = signal_monitoring[signal_monitoring[\"event_type\"] == \"signal lost\"]\n",
    "signal_monitoring.head()\n",
    "\n"
   ]
  },
  {
   "attachments": {},
   "cell_type": "markdown",
   "metadata": {},
   "source": [
    "Nyní můžeme snadno přidat výpočet délky výpadku signálu."
   ]
  },
  {
   "cell_type": "code",
   "execution_count": null,
   "metadata": {},
   "outputs": [],
   "source": [
    "signal_monitoring[\"outage_length\"] = signal_monitoring[\"event_end_date_time\"] - signal_monitoring[\"event_date_time\"]\n",
    "signal_monitoring.head()"
   ]
  },
  {
   "attachments": {},
   "cell_type": "markdown",
   "metadata": {},
   "source": [
    "Nyní můžeme například vypočítat celkovou délku výpadků signálu v jednotlivých dnech."
   ]
  },
  {
   "cell_type": "code",
   "execution_count": 30,
   "metadata": {},
   "outputs": [
    {
     "data": {
      "text/plain": [
       "event_date_time\n",
       "2021-02-03   0 days 00:34:03\n",
       "2021-02-05   0 days 00:32:10\n",
       "2021-02-06   0 days 00:16:50\n",
       "2021-02-08   0 days 00:39:09\n",
       "2021-02-09   0 days 00:44:38\n",
       "Name: outage_length, dtype: timedelta64[ns]"
      ]
     },
     "execution_count": 30,
     "metadata": {},
     "output_type": "execute_result"
    }
   ],
   "source": [
    "signal_monitoring_grouped = signal_monitoring.groupby(signal_monitoring[\"event_date_time\"].dt.date)[\"outage_length\"].sum()\n",
    "signal_monitoring_grouped.head()"
   ]
  },
  {
   "attachments": {},
   "cell_type": "markdown",
   "metadata": {},
   "source": [
    "Jako poslední krok si ukážeme, jak prezentovat výsledky našeho výpočtu pomocí grafu. Abychom mohli použít sloupcový graf, musíme převést typ `timedelta` na číselnou hodnotu. To zařídíme pomocí vlastnosti `dt.total_seconds`."
   ]
  },
  {
   "cell_type": "code",
   "execution_count": null,
   "metadata": {},
   "outputs": [],
   "source": [
    "signal_monitoring_grouped_seconds = signal_monitoring_grouped.dt.total_seconds()\n",
    "signal_monitoring_grouped_seconds.plot(kind=\"bar\")"
   ]
  },
  {
   "attachments": {},
   "cell_type": "markdown",
   "metadata": {},
   "source": [
    "# Čtení na doma\n",
    "\n",
    "## Odstraňování duplicit\n",
    "\n",
    "Duplicitami obecně myslíme opakující se hodnoty v datech. Duplicity mohou vzniknou v důsledku chyby, například:\n",
    "\n",
    "- program zapíše do databáze nebo do logu stejný údaj dvakrát,\n",
    "- vzniknou při propojení (`merge`) tabulek.\n",
    "\n",
    "V některých případech je duplicitní pouze část sloupc. Uvažujme data o registraci uživatelů ze souboru [user_registration.json](user_registration.json). V některých případech uživatel vyplnil registrační formulář do aplikace, ale nepotvrdil e-mailovou adresu (např. mu e-mail padl do spamu) a tak se uživatel po nějaké době zaregistroval znovu.\n"
   ]
  },
  {
   "cell_type": "code",
   "execution_count": 32,
   "metadata": {},
   "outputs": [
    {
     "data": {
      "text/html": [
       "<div>\n",
       "<style scoped>\n",
       "    .dataframe tbody tr th:only-of-type {\n",
       "        vertical-align: middle;\n",
       "    }\n",
       "\n",
       "    .dataframe tbody tr th {\n",
       "        vertical-align: top;\n",
       "    }\n",
       "\n",
       "    .dataframe thead th {\n",
       "        text-align: right;\n",
       "    }\n",
       "</style>\n",
       "<table border=\"1\" class=\"dataframe\">\n",
       "  <thead>\n",
       "    <tr style=\"text-align: right;\">\n",
       "      <th></th>\n",
       "      <th>date_time</th>\n",
       "      <th>email</th>\n",
       "      <th>ip_address</th>\n",
       "      <th>age_group</th>\n",
       "      <th>marketing_channel</th>\n",
       "    </tr>\n",
       "  </thead>\n",
       "  <tbody>\n",
       "    <tr>\n",
       "      <th>0</th>\n",
       "      <td>2021-03-01 00:02:13.920</td>\n",
       "      <td>qbichler@kabsi.at</td>\n",
       "      <td>168.155.75.206</td>\n",
       "      <td>30-44</td>\n",
       "      <td>Social network</td>\n",
       "    </tr>\n",
       "    <tr>\n",
       "      <th>1</th>\n",
       "      <td>2021-03-01 00:04:27.840</td>\n",
       "      <td>robinkolar@chello.cz</td>\n",
       "      <td>105.132.109.66</td>\n",
       "      <td>18-29</td>\n",
       "      <td>Social network</td>\n",
       "    </tr>\n",
       "    <tr>\n",
       "      <th>2</th>\n",
       "      <td>2021-03-01 00:06:41.760</td>\n",
       "      <td>zvesela@chello.cz</td>\n",
       "      <td>105.46.12.139</td>\n",
       "      <td>60+</td>\n",
       "      <td>Newspapers or magazine</td>\n",
       "    </tr>\n",
       "    <tr>\n",
       "      <th>3</th>\n",
       "      <td>2021-03-01 00:08:55.680</td>\n",
       "      <td>gmaresova@email.cz</td>\n",
       "      <td>141.22.41.210</td>\n",
       "      <td>60+</td>\n",
       "      <td>Newspapers or magazine</td>\n",
       "    </tr>\n",
       "    <tr>\n",
       "      <th>4</th>\n",
       "      <td>2021-03-01 00:11:09.600</td>\n",
       "      <td>qkralova@seznam.cz</td>\n",
       "      <td>196.95.130.168</td>\n",
       "      <td>18-29</td>\n",
       "      <td>Friend's recommendation</td>\n",
       "    </tr>\n",
       "  </tbody>\n",
       "</table>\n",
       "</div>"
      ],
      "text/plain": [
       "                date_time                 email      ip_address age_group   \n",
       "0 2021-03-01 00:02:13.920     qbichler@kabsi.at  168.155.75.206     30-44  \\\n",
       "1 2021-03-01 00:04:27.840  robinkolar@chello.cz  105.132.109.66     18-29   \n",
       "2 2021-03-01 00:06:41.760     zvesela@chello.cz   105.46.12.139       60+   \n",
       "3 2021-03-01 00:08:55.680    gmaresova@email.cz   141.22.41.210       60+   \n",
       "4 2021-03-01 00:11:09.600    qkralova@seznam.cz  196.95.130.168     18-29   \n",
       "\n",
       "         marketing_channel  \n",
       "0           Social network  \n",
       "1           Social network  \n",
       "2   Newspapers or magazine  \n",
       "3   Newspapers or magazine  \n",
       "4  Friend's recommendation  "
      ]
     },
     "execution_count": 32,
     "metadata": {},
     "output_type": "execute_result"
    }
   ],
   "source": [
    "import pandas\n",
    "data = pandas.read_json(\"user_registration.json\")\n",
    "data.head()"
   ]
  },
  {
   "attachments": {},
   "cell_type": "markdown",
   "metadata": {},
   "source": [
    "Zjistíme nyní počet záznamů v souboru."
   ]
  },
  {
   "cell_type": "code",
   "execution_count": 33,
   "metadata": {},
   "outputs": [
    {
     "data": {
      "text/plain": [
       "34398"
      ]
     },
     "execution_count": 33,
     "metadata": {},
     "output_type": "execute_result"
    }
   ],
   "source": [
    "data[\"email\"].unique().shape[0]"
   ]
  },
  {
   "attachments": {},
   "cell_type": "markdown",
   "metadata": {},
   "source": [
    "Pokud budeme chtít seznam unikátních e-mailových adres, můžeme na sérii `email` aplikovat metodu `unique()`."
   ]
  },
  {
   "attachments": {},
   "cell_type": "markdown",
   "metadata": {},
   "source": [
    "Pokud budeme chtít odstranit duplicitní registrace z celé tabulky, můžeme využít metodu `drop_duplicates()`. Ta odebere řádky na základě sloupců definovaých jako parametr `subset`. Pokud parametr nevyplníme, jsou použity všechny sloupce. Dále vybíráme, které řádky chceme ponechat. K tomu slouží parametr `last`. Máme tři možnosti:\n",
    "\n",
    "- ponechat poslední řádek (`last`),\n",
    "- ponechat první řádek (`first`),\n",
    "- neponechat ani jeden z duplicitních řádků (`False`).\n",
    "\n",
    "V našem případě ponecháme poslední řádek. Počet řádků v souboru nyní odpovídá počtu unikátních e-mailových adres, které jsme získali metodou `unique()`."
   ]
  },
  {
   "cell_type": "code",
   "execution_count": 34,
   "metadata": {},
   "outputs": [
    {
     "data": {
      "text/plain": [
       "(34398, 5)"
      ]
     },
     "execution_count": 34,
     "metadata": {},
     "output_type": "execute_result"
    }
   ],
   "source": [
    "data_cleaned = data.drop_duplicates(subset=\"email\", keep=\"last\")\n",
    "data_cleaned.shape"
   ]
  },
  {
   "attachments": {},
   "cell_type": "markdown",
   "metadata": {},
   "source": [
    "## Přený formát data a času\n",
    "\n",
    "Konzervativnější přístup je ale přesná definice formáta data, který využívá stejné symboly, jako funkce `strftime` modulu `datetime`. Náš český formát bychom zapsatli jako `\"%d. %m. %Y\"`:\n",
    "\n",
    "- `%d` zastupuje číslo dne,\n",
    "- `%m` číslo měsíce a\n",
    "- `%Y` rok.\n",
    "\n",
    "Kompletní význam všech zástupných symbolů je stejný jako v jazyce Python a najdeme jen v [dokumentaci modulu datetime](https://docs.python.org/3/library/datetime.html#strftime-and-strptime-behavior)."
   ]
  },
  {
   "cell_type": "code",
   "execution_count": 35,
   "metadata": {},
   "outputs": [
    {
     "data": {
      "text/html": [
       "<div>\n",
       "<style scoped>\n",
       "    .dataframe tbody tr th:only-of-type {\n",
       "        vertical-align: middle;\n",
       "    }\n",
       "\n",
       "    .dataframe tbody tr th {\n",
       "        vertical-align: top;\n",
       "    }\n",
       "\n",
       "    .dataframe thead th {\n",
       "        text-align: right;\n",
       "    }\n",
       "</style>\n",
       "<table border=\"1\" class=\"dataframe\">\n",
       "  <thead>\n",
       "    <tr style=\"text-align: right;\">\n",
       "      <th></th>\n",
       "      <th>invoice_date</th>\n",
       "      <th>customer</th>\n",
       "      <th>amount</th>\n",
       "      <th>invoice_date_converted</th>\n",
       "      <th>due_date</th>\n",
       "      <th>status</th>\n",
       "    </tr>\n",
       "  </thead>\n",
       "  <tbody>\n",
       "    <tr>\n",
       "      <th>0</th>\n",
       "      <td>24. 07. 2021</td>\n",
       "      <td>Robbins-Bryant</td>\n",
       "      <td>42424.49</td>\n",
       "      <td>2021-07-24</td>\n",
       "      <td>2021-09-22</td>\n",
       "      <td>before due date</td>\n",
       "    </tr>\n",
       "    <tr>\n",
       "      <th>1</th>\n",
       "      <td>03. 06. 2021</td>\n",
       "      <td>Little, Espinoza and Manning</td>\n",
       "      <td>6269.53</td>\n",
       "      <td>2021-06-03</td>\n",
       "      <td>2021-08-02</td>\n",
       "      <td>overdue</td>\n",
       "    </tr>\n",
       "    <tr>\n",
       "      <th>2</th>\n",
       "      <td>24. 06. 2021</td>\n",
       "      <td>Hartman-Garcia</td>\n",
       "      <td>19182.55</td>\n",
       "      <td>2021-06-24</td>\n",
       "      <td>2021-08-23</td>\n",
       "      <td>overdue</td>\n",
       "    </tr>\n",
       "    <tr>\n",
       "      <th>3</th>\n",
       "      <td>09. 08. 2021</td>\n",
       "      <td>Mason, Armstrong and Whitaker</td>\n",
       "      <td>66295.23</td>\n",
       "      <td>2021-08-09</td>\n",
       "      <td>2021-10-08</td>\n",
       "      <td>before due date</td>\n",
       "    </tr>\n",
       "    <tr>\n",
       "      <th>4</th>\n",
       "      <td>29. 06. 2021</td>\n",
       "      <td>Dickerson-Blankenship</td>\n",
       "      <td>88592.58</td>\n",
       "      <td>2021-06-29</td>\n",
       "      <td>2021-08-28</td>\n",
       "      <td>overdue</td>\n",
       "    </tr>\n",
       "  </tbody>\n",
       "</table>\n",
       "</div>"
      ],
      "text/plain": [
       "   invoice_date                       customer    amount   \n",
       "0  24. 07. 2021                 Robbins-Bryant  42424.49  \\\n",
       "1  03. 06. 2021   Little, Espinoza and Manning   6269.53   \n",
       "2  24. 06. 2021                 Hartman-Garcia  19182.55   \n",
       "3  09. 08. 2021  Mason, Armstrong and Whitaker  66295.23   \n",
       "4  29. 06. 2021          Dickerson-Blankenship  88592.58   \n",
       "\n",
       "  invoice_date_converted   due_date           status  \n",
       "0             2021-07-24 2021-09-22  before due date  \n",
       "1             2021-06-03 2021-08-02          overdue  \n",
       "2             2021-06-24 2021-08-23          overdue  \n",
       "3             2021-08-09 2021-10-08  before due date  \n",
       "4             2021-06-29 2021-08-28          overdue  "
      ]
     },
     "execution_count": 35,
     "metadata": {},
     "output_type": "execute_result"
    }
   ],
   "source": [
    "invoices[\"invoice_date_converted\"] = pandas.to_datetime(invoices[\"invoice_date\"], format=\"%d. %m. %Y\")\n",
    "invoices.head()"
   ]
  },
  {
   "attachments": {},
   "cell_type": "markdown",
   "metadata": {},
   "source": [
    "Funkce `to_datetime` tiše dělá ještě jednu chytrou věc. Převod data z řetězce totiž není úplně jednoduchá záležitost a i když ji moderní počítač zvládne velmi rychle, stále platí pravidlo, že tisíckrát nic umořilo osla. Pokud by tedy `pandas` převáděl každý řetězec, operace by trvala dlouho.\n",
    "\n",
    "Funkce `to_datetime` na to ale jde chytřeji a používá vyrovnávají paměť nebo-li `cache`. Každý převedený řetězec si uloží a předtím, že se pustí do pracného převodu u nového řádku, zkontroluje, zda již takový řetězec nepřeváděl. To je pro náš případ, kdy máme hodně dat v omezeném období ideální. Abychom si vyzkoušeli, jak dlouho by převod trval bez cache, nastavíme parametr `cache` na `False`."
   ]
  },
  {
   "cell_type": "code",
   "execution_count": 36,
   "metadata": {},
   "outputs": [
    {
     "data": {
      "text/html": [
       "<div>\n",
       "<style scoped>\n",
       "    .dataframe tbody tr th:only-of-type {\n",
       "        vertical-align: middle;\n",
       "    }\n",
       "\n",
       "    .dataframe tbody tr th {\n",
       "        vertical-align: top;\n",
       "    }\n",
       "\n",
       "    .dataframe thead th {\n",
       "        text-align: right;\n",
       "    }\n",
       "</style>\n",
       "<table border=\"1\" class=\"dataframe\">\n",
       "  <thead>\n",
       "    <tr style=\"text-align: right;\">\n",
       "      <th></th>\n",
       "      <th>invoice_date</th>\n",
       "      <th>customer</th>\n",
       "      <th>amount</th>\n",
       "      <th>invoice_date_converted</th>\n",
       "      <th>due_date</th>\n",
       "      <th>status</th>\n",
       "    </tr>\n",
       "  </thead>\n",
       "  <tbody>\n",
       "    <tr>\n",
       "      <th>0</th>\n",
       "      <td>24. 07. 2021</td>\n",
       "      <td>Robbins-Bryant</td>\n",
       "      <td>42424.49</td>\n",
       "      <td>2021-07-24</td>\n",
       "      <td>2021-09-22</td>\n",
       "      <td>before due date</td>\n",
       "    </tr>\n",
       "    <tr>\n",
       "      <th>1</th>\n",
       "      <td>03. 06. 2021</td>\n",
       "      <td>Little, Espinoza and Manning</td>\n",
       "      <td>6269.53</td>\n",
       "      <td>2021-06-03</td>\n",
       "      <td>2021-08-02</td>\n",
       "      <td>overdue</td>\n",
       "    </tr>\n",
       "    <tr>\n",
       "      <th>2</th>\n",
       "      <td>24. 06. 2021</td>\n",
       "      <td>Hartman-Garcia</td>\n",
       "      <td>19182.55</td>\n",
       "      <td>2021-06-24</td>\n",
       "      <td>2021-08-23</td>\n",
       "      <td>overdue</td>\n",
       "    </tr>\n",
       "    <tr>\n",
       "      <th>3</th>\n",
       "      <td>09. 08. 2021</td>\n",
       "      <td>Mason, Armstrong and Whitaker</td>\n",
       "      <td>66295.23</td>\n",
       "      <td>2021-08-09</td>\n",
       "      <td>2021-10-08</td>\n",
       "      <td>before due date</td>\n",
       "    </tr>\n",
       "    <tr>\n",
       "      <th>4</th>\n",
       "      <td>29. 06. 2021</td>\n",
       "      <td>Dickerson-Blankenship</td>\n",
       "      <td>88592.58</td>\n",
       "      <td>2021-06-29</td>\n",
       "      <td>2021-08-28</td>\n",
       "      <td>overdue</td>\n",
       "    </tr>\n",
       "  </tbody>\n",
       "</table>\n",
       "</div>"
      ],
      "text/plain": [
       "   invoice_date                       customer    amount   \n",
       "0  24. 07. 2021                 Robbins-Bryant  42424.49  \\\n",
       "1  03. 06. 2021   Little, Espinoza and Manning   6269.53   \n",
       "2  24. 06. 2021                 Hartman-Garcia  19182.55   \n",
       "3  09. 08. 2021  Mason, Armstrong and Whitaker  66295.23   \n",
       "4  29. 06. 2021          Dickerson-Blankenship  88592.58   \n",
       "\n",
       "  invoice_date_converted   due_date           status  \n",
       "0             2021-07-24 2021-09-22  before due date  \n",
       "1             2021-06-03 2021-08-02          overdue  \n",
       "2             2021-06-24 2021-08-23          overdue  \n",
       "3             2021-08-09 2021-10-08  before due date  \n",
       "4             2021-06-29 2021-08-28          overdue  "
      ]
     },
     "execution_count": 36,
     "metadata": {},
     "output_type": "execute_result"
    }
   ],
   "source": [
    "invoices[\"invoice_date_converted\"] = pandas.to_datetime(invoices[\"invoice_date\"], format=\"%d. %m. %Y\", cache=False)\n",
    "invoices.head()"
   ]
  },
  {
   "attachments": {},
   "cell_type": "markdown",
   "metadata": {},
   "source": [
    "Vidíme, že převod trvá řádově déle, využití vyrovnávací paměti se tedy vyplatí. Pokud bychom např. převáděli 10 milionů záznamů, budou časy převodů (na bězném PC) cca 2 a 20 sekund."
   ]
  },
  {
   "attachments": {},
   "cell_type": "markdown",
   "metadata": {},
   "source": [
    "# Cvičené\n",
    "\n",
    "## Závod\n",
    "\n",
    "Uvažuj časy závodníků za ročníky půlmaratonu 2019 a 2020, které jsou uloženy v souboru [half_marathon.csv](half_marathon.csv). V souboru jsou uloženy pouze časy závodníků, které se zúčastnili obou závodů. V souboru je uloženo jméno závodníka, jeho čas a rok závodu, ke kterému se čas vztahuje. Tvým úkolem je spočítat, o kolik se změnil průměrný čas závodníků a zda se v průměru zlepšili či zhoršili (například protože kvůli lockdownům méně či více trénovali).\n",
    "\n",
    "Můžeš využít následující postup:\n",
    "\n",
    "- Seřaď si data (je třeba seřadit data dle jména závodníka i dle roku závodu).\n",
    "- Převeď sloupec s časem závodníka na typ `datetime`. Můžeš využít stejný postup, jaký jsme si ukázali v lekci. Protože jde pouze o časový údaj, pandas k němu připojí dnešní datum, aby byly ve sloupci datum i čas. Toho si ale nevšímej, u obou sloupců je datum stejný, takže na porovnání údajů to nebude mít vliv.\n",
    "- Pomocí metody `shift()` si dej na jeden řádek výsledky obou závodů. Je nutné ji použít v kombinaci s metodou `groupby()`, jak je vidět níže. Je třeba nahradit `X` vhodně zvoleným číslem.\n",
    "\n",
    "```py\n",
    "df_joined[\"Cas zavodnika 2020\"] = df_joined.groupby(\"Jmeno\")[\"Cas zavodnika\"].shift(X)\n",
    "```\n",
    "\n",
    "- Vyřaď z tabulky neúplné řádky pomocí metody `dropna()`.\n",
    "- Vypočítej rozdíl mezi časy závodníka a převeď ho na sekundy (postup jsme si ukazovali v lekci). Dále spočítej průměrnou změnu. Vyšlo i kladné nebo záporné číslo? A co to znamená.\n"
   ]
  },
  {
   "attachments": {},
   "cell_type": "markdown",
   "metadata": {},
   "source": [
    "### Výsledek\n",
    "\n",
    "Mělo by ti vyjít, že průměrná změna je asi 584 sekund. To, jestli je číslo kladné nebo záporné záleží na výpočtu rozdílu. Při výpočtu `df[\"Cas zavodnika 2020\"] - df[\"Cas zavodnika\"]` by číslo mělo být kladné a znamená zhoršení (v roce 2020 závodníci běželi déle, čili se zhoršili). Při výpočtu `df[\"Cas zavodnika\"] - df[\"Cas zavodnika 2020\"]` pak vyjde rozdíl záporný (v roce 2019 běželi závodníci kratší čas, proto došlo ke zhoršení).\n",
    "\n",
    "### Bonus\n",
    "\n",
    "- Rozděl pomocí funkce `cut()` závodníky na ty, kteří se zlepšili a ty, kteří se zhoršili. Jako hranice můžeš využít \"mínus nekonečno\" (`float(\"-inf\")`) a \"plus nekonečno\" (`float(\"inf\")`). Dále pomocí agregace zjisti počty závodníků, kteří se zlepšili a kteří se naopak zhoršili"
   ]
  }
 ],
 "metadata": {
  "kernelspec": {
   "display_name": "venv",
   "language": "python",
   "name": "python3"
  },
  "language_info": {
   "codemirror_mode": {
    "name": "ipython",
    "version": 3
   },
   "file_extension": ".py",
   "mimetype": "text/x-python",
   "name": "python",
   "nbconvert_exporter": "python",
   "pygments_lexer": "ipython3",
   "version": "3.9.10"
  },
  "orig_nbformat": 4
 },
 "nbformat": 4,
 "nbformat_minor": 2
}
